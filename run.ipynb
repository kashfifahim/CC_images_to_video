{
 "cells": [
  {
   "cell_type": "code",
   "execution_count": null,
   "metadata": {},
   "outputs": [],
   "source": [
    "import cv2\n",
    "from os import getenv\n",
    "from pathlib import Path\n",
    "import os\n",
    "import re\n",
    "import shutil\n",
    "import zipfile"
   ]
  },
  {
   "cell_type": "code",
   "execution_count": null,
   "metadata": {},
   "outputs": [],
   "source": [
    "input_folder = Path(getenv(\n",
    "    'CROSSCOMPUTE_INPUT_FOLDER', 'batches/standard/input'))\n",
    "output_folder = Path(getenv(\n",
    "    'CROSSCOMPUTE_OUTPUT_FOLDER', 'batches/standard/output'))\n",
    "output_folder.mkdir(parents=True, exist_ok=True)"
   ]
  },
  {
   "cell_type": "code",
   "execution_count": null,
   "metadata": {},
   "outputs": [],
   "source": [
    "# Extract images from zip file\n",
    "def extract_images_from_zip(zip_path, extract_to):\n",
    "    with zipfile.ZipFile(zip_path, 'r') as zip_ref:\n",
    "        zip_ref.extractall(extract_to)"
   ]
  },
  {
   "cell_type": "code",
   "execution_count": null,
   "metadata": {},
   "outputs": [],
   "source": [
    "def natural_sort_key(s):\n",
    "    return [int(text) if text.isdigit() else text.lower() for text in re.split(r'(\\d+)', s)]"
   ]
  },
  {
   "cell_type": "code",
   "execution_count": null,
   "metadata": {},
   "outputs": [],
   "source": [
    "def resize_image(image, target_width, target_height):\n",
    "    \"\"\"\n",
    "    Resize an image to fit within the specified dimensions while maintaining the original aspect ratio.\n",
    "    \"\"\"\n",
    "    original_height, original_width = image.shape[:2]\n",
    "    aspect_ratio = original_width / original_height\n",
    "    \n",
    "    if original_width > original_height:\n",
    "        new_width = target_width\n",
    "        new_height = int(target_width / aspect_ratio)\n",
    "    else:\n",
    "        new_height = target_height\n",
    "        new_width = int(target_height * aspect_ratio)\n",
    "\n",
    "    resized_image = cv2.resize(image, (new_width, new_height))\n",
    "    \n",
    "    # If the new dimensions are smaller in any direction, pad the resized image with black color\n",
    "    top_padding = (target_height - new_height) // 2\n",
    "    bottom_padding = target_height - new_height - top_padding\n",
    "    left_padding = (target_width - new_width) // 2\n",
    "    right_padding = target_width - new_width - left_padding\n",
    "\n",
    "    return cv2.copyMakeBorder(resized_image, top_padding, bottom_padding, left_padding, right_padding, cv2.BORDER_CONSTANT, value=[0, 0, 0])"
   ]
  },
  {
   "cell_type": "code",
   "execution_count": null,
   "metadata": {},
   "outputs": [],
   "source": [
    "def images_to_video(image_paths, output_video_file, fps=30, duration=5, target_width=1920, target_height=1080):\n",
    "    \"\"\"\n",
    "    Convert a set of images to a video.\n",
    "    \n",
    "    Parameters:\n",
    "    - image_paths: list of paths to the image files\n",
    "    - output_video_file: path to the output video file (e.g., 'output.mp4')\n",
    "    - fps, duration, target_width, target_height as before\n",
    "    \"\"\"\n",
    "    fourcc = cv2.VideoWriter_fourcc(*'mp4v')\n",
    "    out = cv2.VideoWriter(output_video_file, fourcc, fps, (target_width, target_height))\n",
    "    \n",
    "    for img_path in image_paths:\n",
    "        img = cv2.imread(img_path)\n",
    "        resized_img = resize_image(img, target_width, target_height)\n",
    "        \n",
    "        for _ in range(fps * duration):\n",
    "            out.write(resized_img)\n",
    "    \n",
    "    out.release()"
   ]
  },
  {
   "cell_type": "code",
   "execution_count": null,
   "metadata": {},
   "outputs": [],
   "source": [
    "# no sorting\n",
    "# output_video_file = Path(output_folder / 'output_video.mp4')"
   ]
  },
  {
   "cell_type": "code",
   "execution_count": null,
   "metadata": {},
   "outputs": [],
   "source": [
    "# Hard coded: \n",
    "# zip_file_path = input_folder / 'Archive.zip'\n",
    "\n",
    "# Find the first zip file in the input folder\n",
    "zip_files = list(input_folder.glob('*.zip'))\n",
    "if not zip_files:\n",
    "    raise ValueError(\"No zip file found in the input folder\")\n",
    "zip_file_path = zip_files[0]"
   ]
  },
  {
   "cell_type": "code",
   "execution_count": null,
   "metadata": {},
   "outputs": [],
   "source": [
    "extract_to_folder = output_folder / 'extracted_images'\n",
    "extract_to_folder.mkdir(exist_ok=True)"
   ]
  },
  {
   "cell_type": "code",
   "execution_count": null,
   "metadata": {},
   "outputs": [],
   "source": [
    "# Extract images\n",
    "extract_images_from_zip(zip_file_path, extract_to_folder)"
   ]
  },
  {
   "cell_type": "code",
   "execution_count": null,
   "metadata": {},
   "outputs": [],
   "source": [
    "# Natural Sort Function for image paths FOR INPUT Images\n",
    "# image_paths = sorted([str(file_path) for file_path in input_folder.glob('*.png')], key=natural_sort_key)"
   ]
  },
  {
   "cell_type": "code",
   "execution_count": null,
   "metadata": {},
   "outputs": [],
   "source": [
    "# For zip file\n",
    "image_paths = sorted([str(file_path) for file_path in extract_to_folder.glob('*.png')], key=natural_sort_key)"
   ]
  },
  {
   "cell_type": "code",
   "execution_count": null,
   "metadata": {},
   "outputs": [],
   "source": [
    "output_video_file = Path(output_folder / 'output_video.mp4')"
   ]
  },
  {
   "cell_type": "code",
   "execution_count": null,
   "metadata": {},
   "outputs": [],
   "source": [
    "# Call the images_to_video function\n",
    "images_to_video(image_paths, str(output_video_file), fps=30, duration=5)"
   ]
  },
  {
   "cell_type": "code",
   "execution_count": null,
   "metadata": {},
   "outputs": [],
   "source": [
    "# Verify that the video was created and is not empty\n",
    "if os.path.exists(output_video_file) and os.path.getsize(output_video_file) > 0:\n",
    "    print(f\"Video created successfully: {output_video_file}\")\n",
    "    \n",
    "    # Cleanup: delete the folder with extracted images\n",
    "    try:\n",
    "        shutil.rmtree(extract_to_folder)\n",
    "        print(f\"Deleted extracted images folder: {extract_to_folder}\")\n",
    "    except OSError as e:\n",
    "        print(f\"Error deleting folder {extract_to_folder}: {e.strerror}\")\n",
    "else:\n",
    "    print(f\"Video creation failed or video file is empty: {output_video_file}\")"
   ]
  }
 ],
 "metadata": {
  "language_info": {
   "name": "python"
  }
 },
 "nbformat": 4,
 "nbformat_minor": 2
}
